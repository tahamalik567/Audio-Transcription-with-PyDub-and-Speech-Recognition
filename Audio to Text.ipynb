{
 "cells": [
  {
   "cell_type": "code",
   "execution_count": null,
   "metadata": {},
   "outputs": [],
   "source": [
    "# pip install pydub SpeechRecognition"
   ]
  },
  {
   "cell_type": "code",
   "execution_count": 5,
   "metadata": {},
   "outputs": [
    {
     "ename": "FileNotFoundError",
     "evalue": "[WinError 2] The system cannot find the file specified",
     "output_type": "error",
     "traceback": [
      "\u001b[1;31m---------------------------------------------------------------------------\u001b[0m",
      "\u001b[1;31mFileNotFoundError\u001b[0m                         Traceback (most recent call last)",
      "Cell \u001b[1;32mIn[5], line 28\u001b[0m\n\u001b[0;32m     25\u001b[0m wav_file \u001b[38;5;241m=\u001b[39m \u001b[38;5;124m\"\u001b[39m\u001b[38;5;124myour_file.wav\u001b[39m\u001b[38;5;124m\"\u001b[39m\n\u001b[0;32m     27\u001b[0m \u001b[38;5;66;03m# Convert and transcribe\u001b[39;00m\n\u001b[1;32m---> 28\u001b[0m convert_m4a_to_wav(m4a_file, wav_file)\n\u001b[0;32m     29\u001b[0m transcription \u001b[38;5;241m=\u001b[39m transcribe_audio(wav_file)\n\u001b[0;32m     30\u001b[0m \u001b[38;5;28mprint\u001b[39m(\u001b[38;5;124m\"\u001b[39m\u001b[38;5;124mTranscription: \u001b[39m\u001b[38;5;124m\"\u001b[39m \u001b[38;5;241m+\u001b[39m transcription)\n",
      "Cell \u001b[1;32mIn[5], line 6\u001b[0m, in \u001b[0;36mconvert_m4a_to_wav\u001b[1;34m(m4a_file, wav_file)\u001b[0m\n\u001b[0;32m      5\u001b[0m \u001b[38;5;28;01mdef\u001b[39;00m \u001b[38;5;21mconvert_m4a_to_wav\u001b[39m(m4a_file, wav_file):\n\u001b[1;32m----> 6\u001b[0m     audio \u001b[38;5;241m=\u001b[39m AudioSegment\u001b[38;5;241m.\u001b[39mfrom_file(m4a_file, \u001b[38;5;28mformat\u001b[39m\u001b[38;5;241m=\u001b[39m\u001b[38;5;124m\"\u001b[39m\u001b[38;5;124mm4a\u001b[39m\u001b[38;5;124m\"\u001b[39m)\n\u001b[0;32m      7\u001b[0m     audio\u001b[38;5;241m.\u001b[39mexport(wav_file, \u001b[38;5;28mformat\u001b[39m\u001b[38;5;241m=\u001b[39m\u001b[38;5;124m\"\u001b[39m\u001b[38;5;124mwav\u001b[39m\u001b[38;5;124m\"\u001b[39m)\n",
      "File \u001b[1;32mc:\\Users\\Taha\\AppData\\Local\\anaconda3\\Lib\\site-packages\\pydub\\audio_segment.py:728\u001b[0m, in \u001b[0;36mAudioSegment.from_file\u001b[1;34m(cls, file, format, codec, parameters, start_second, duration, **kwargs)\u001b[0m\n\u001b[0;32m    726\u001b[0m     info \u001b[38;5;241m=\u001b[39m \u001b[38;5;28;01mNone\u001b[39;00m\n\u001b[0;32m    727\u001b[0m \u001b[38;5;28;01melse\u001b[39;00m:\n\u001b[1;32m--> 728\u001b[0m     info \u001b[38;5;241m=\u001b[39m mediainfo_json(orig_file, read_ahead_limit\u001b[38;5;241m=\u001b[39mread_ahead_limit)\n\u001b[0;32m    729\u001b[0m \u001b[38;5;28;01mif\u001b[39;00m info:\n\u001b[0;32m    730\u001b[0m     audio_streams \u001b[38;5;241m=\u001b[39m [x \u001b[38;5;28;01mfor\u001b[39;00m x \u001b[38;5;129;01min\u001b[39;00m info[\u001b[38;5;124m'\u001b[39m\u001b[38;5;124mstreams\u001b[39m\u001b[38;5;124m'\u001b[39m]\n\u001b[0;32m    731\u001b[0m                      \u001b[38;5;28;01mif\u001b[39;00m x[\u001b[38;5;124m'\u001b[39m\u001b[38;5;124mcodec_type\u001b[39m\u001b[38;5;124m'\u001b[39m] \u001b[38;5;241m==\u001b[39m \u001b[38;5;124m'\u001b[39m\u001b[38;5;124maudio\u001b[39m\u001b[38;5;124m'\u001b[39m]\n",
      "File \u001b[1;32mc:\\Users\\Taha\\AppData\\Local\\anaconda3\\Lib\\site-packages\\pydub\\utils.py:274\u001b[0m, in \u001b[0;36mmediainfo_json\u001b[1;34m(filepath, read_ahead_limit)\u001b[0m\n\u001b[0;32m    271\u001b[0m         file\u001b[38;5;241m.\u001b[39mclose()\n\u001b[0;32m    273\u001b[0m command \u001b[38;5;241m=\u001b[39m [prober, \u001b[38;5;124m'\u001b[39m\u001b[38;5;124m-of\u001b[39m\u001b[38;5;124m'\u001b[39m, \u001b[38;5;124m'\u001b[39m\u001b[38;5;124mjson\u001b[39m\u001b[38;5;124m'\u001b[39m] \u001b[38;5;241m+\u001b[39m command_args\n\u001b[1;32m--> 274\u001b[0m res \u001b[38;5;241m=\u001b[39m Popen(command, stdin\u001b[38;5;241m=\u001b[39mstdin_parameter, stdout\u001b[38;5;241m=\u001b[39mPIPE, stderr\u001b[38;5;241m=\u001b[39mPIPE)\n\u001b[0;32m    275\u001b[0m output, stderr \u001b[38;5;241m=\u001b[39m res\u001b[38;5;241m.\u001b[39mcommunicate(\u001b[38;5;28minput\u001b[39m\u001b[38;5;241m=\u001b[39mstdin_data)\n\u001b[0;32m    276\u001b[0m output \u001b[38;5;241m=\u001b[39m output\u001b[38;5;241m.\u001b[39mdecode(\u001b[38;5;124m\"\u001b[39m\u001b[38;5;124mutf-8\u001b[39m\u001b[38;5;124m\"\u001b[39m, \u001b[38;5;124m'\u001b[39m\u001b[38;5;124mignore\u001b[39m\u001b[38;5;124m'\u001b[39m)\n",
      "File \u001b[1;32mc:\\Users\\Taha\\AppData\\Local\\anaconda3\\Lib\\subprocess.py:1026\u001b[0m, in \u001b[0;36mPopen.__init__\u001b[1;34m(self, args, bufsize, executable, stdin, stdout, stderr, preexec_fn, close_fds, shell, cwd, env, universal_newlines, startupinfo, creationflags, restore_signals, start_new_session, pass_fds, user, group, extra_groups, encoding, errors, text, umask, pipesize, process_group)\u001b[0m\n\u001b[0;32m   1022\u001b[0m         \u001b[38;5;28;01mif\u001b[39;00m \u001b[38;5;28mself\u001b[39m\u001b[38;5;241m.\u001b[39mtext_mode:\n\u001b[0;32m   1023\u001b[0m             \u001b[38;5;28mself\u001b[39m\u001b[38;5;241m.\u001b[39mstderr \u001b[38;5;241m=\u001b[39m io\u001b[38;5;241m.\u001b[39mTextIOWrapper(\u001b[38;5;28mself\u001b[39m\u001b[38;5;241m.\u001b[39mstderr,\n\u001b[0;32m   1024\u001b[0m                     encoding\u001b[38;5;241m=\u001b[39mencoding, errors\u001b[38;5;241m=\u001b[39merrors)\n\u001b[1;32m-> 1026\u001b[0m     \u001b[38;5;28mself\u001b[39m\u001b[38;5;241m.\u001b[39m_execute_child(args, executable, preexec_fn, close_fds,\n\u001b[0;32m   1027\u001b[0m                         pass_fds, cwd, env,\n\u001b[0;32m   1028\u001b[0m                         startupinfo, creationflags, shell,\n\u001b[0;32m   1029\u001b[0m                         p2cread, p2cwrite,\n\u001b[0;32m   1030\u001b[0m                         c2pread, c2pwrite,\n\u001b[0;32m   1031\u001b[0m                         errread, errwrite,\n\u001b[0;32m   1032\u001b[0m                         restore_signals,\n\u001b[0;32m   1033\u001b[0m                         gid, gids, uid, umask,\n\u001b[0;32m   1034\u001b[0m                         start_new_session, process_group)\n\u001b[0;32m   1035\u001b[0m \u001b[38;5;28;01mexcept\u001b[39;00m:\n\u001b[0;32m   1036\u001b[0m     \u001b[38;5;66;03m# Cleanup if the child failed starting.\u001b[39;00m\n\u001b[0;32m   1037\u001b[0m     \u001b[38;5;28;01mfor\u001b[39;00m f \u001b[38;5;129;01min\u001b[39;00m \u001b[38;5;28mfilter\u001b[39m(\u001b[38;5;28;01mNone\u001b[39;00m, (\u001b[38;5;28mself\u001b[39m\u001b[38;5;241m.\u001b[39mstdin, \u001b[38;5;28mself\u001b[39m\u001b[38;5;241m.\u001b[39mstdout, \u001b[38;5;28mself\u001b[39m\u001b[38;5;241m.\u001b[39mstderr)):\n",
      "File \u001b[1;32mc:\\Users\\Taha\\AppData\\Local\\anaconda3\\Lib\\subprocess.py:1538\u001b[0m, in \u001b[0;36mPopen._execute_child\u001b[1;34m(self, args, executable, preexec_fn, close_fds, pass_fds, cwd, env, startupinfo, creationflags, shell, p2cread, p2cwrite, c2pread, c2pwrite, errread, errwrite, unused_restore_signals, unused_gid, unused_gids, unused_uid, unused_umask, unused_start_new_session, unused_process_group)\u001b[0m\n\u001b[0;32m   1536\u001b[0m \u001b[38;5;66;03m# Start the process\u001b[39;00m\n\u001b[0;32m   1537\u001b[0m \u001b[38;5;28;01mtry\u001b[39;00m:\n\u001b[1;32m-> 1538\u001b[0m     hp, ht, pid, tid \u001b[38;5;241m=\u001b[39m _winapi\u001b[38;5;241m.\u001b[39mCreateProcess(executable, args,\n\u001b[0;32m   1539\u001b[0m                              \u001b[38;5;66;03m# no special security\u001b[39;00m\n\u001b[0;32m   1540\u001b[0m                              \u001b[38;5;28;01mNone\u001b[39;00m, \u001b[38;5;28;01mNone\u001b[39;00m,\n\u001b[0;32m   1541\u001b[0m                              \u001b[38;5;28mint\u001b[39m(\u001b[38;5;129;01mnot\u001b[39;00m close_fds),\n\u001b[0;32m   1542\u001b[0m                              creationflags,\n\u001b[0;32m   1543\u001b[0m                              env,\n\u001b[0;32m   1544\u001b[0m                              cwd,\n\u001b[0;32m   1545\u001b[0m                              startupinfo)\n\u001b[0;32m   1546\u001b[0m \u001b[38;5;28;01mfinally\u001b[39;00m:\n\u001b[0;32m   1547\u001b[0m     \u001b[38;5;66;03m# Child is launched. Close the parent's copy of those pipe\u001b[39;00m\n\u001b[0;32m   1548\u001b[0m     \u001b[38;5;66;03m# handles that only the child should have open.  You need\u001b[39;00m\n\u001b[1;32m   (...)\u001b[0m\n\u001b[0;32m   1551\u001b[0m     \u001b[38;5;66;03m# pipe will not close when the child process exits and the\u001b[39;00m\n\u001b[0;32m   1552\u001b[0m     \u001b[38;5;66;03m# ReadFile will hang.\u001b[39;00m\n\u001b[0;32m   1553\u001b[0m     \u001b[38;5;28mself\u001b[39m\u001b[38;5;241m.\u001b[39m_close_pipe_fds(p2cread, p2cwrite,\n\u001b[0;32m   1554\u001b[0m                          c2pread, c2pwrite,\n\u001b[0;32m   1555\u001b[0m                          errread, errwrite)\n",
      "\u001b[1;31mFileNotFoundError\u001b[0m: [WinError 2] The system cannot find the file specified"
     ]
    }
   ],
   "source": [
    "from pydub import AudioSegment\n",
    "import speech_recognition as sr\n",
    "\n",
    "# Step 1: Convert M4A to WAV\n",
    "def convert_m4a_to_wav(m4a_file, wav_file):\n",
    "    audio = AudioSegment.from_file(m4a_file, format=\"m4a\")\n",
    "    audio.export(wav_file, format=\"wav\")\n",
    "\n",
    "# Step 2: Transcribe WAV to text\n",
    "def transcribe_audio(wav_file):\n",
    "    recognizer = sr.Recognizer()\n",
    "    with sr.AudioFile(wav_file) as source:\n",
    "        audio = recognizer.record(source)  # Read the entire audio file\n",
    "\n",
    "    try:\n",
    "        text = recognizer.recognize_google(audio)\n",
    "        return text\n",
    "    except sr.UnknownValueError:\n",
    "        return \"Google Speech Recognition could not understand audio\"\n",
    "    except sr.RequestError as e:\n",
    "        return \"Could not request results from Google Speech Recognition service; {0}\".format(e)\n",
    "\n",
    "# File paths\n",
    "m4a_file = \"Audio.m4a\"\n",
    "wav_file = \"your_file.wav\"\n",
    "\n",
    "# Convert and transcribe\n",
    "convert_m4a_to_wav(m4a_file, wav_file)\n",
    "transcription = transcribe_audio(wav_file)\n",
    "print(\"Transcription: \" + transcription)\n",
    "\n",
    "# Optionally, save the transcription to a file\n",
    "with open(\"transcription.txt\", \"w\") as file:\n",
    "    file.write(transcription)"
   ]
  },
  {
   "cell_type": "code",
   "execution_count": 7,
   "metadata": {},
   "outputs": [
    {
     "name": "stdout",
     "output_type": "stream",
     "text": [
      "Transcription: Could not request results from Google Speech Recognition service; recognition request failed: Bad Request\n"
     ]
    }
   ],
   "source": [
    "import speech_recognition as sr\n",
    "\n",
    "# Step 1: Transcribe WAV to text\n",
    "def transcribe_audio(wav_file):\n",
    "    recognizer = sr.Recognizer()\n",
    "    with sr.AudioFile(wav_file) as source:\n",
    "        audio = recognizer.record(source)  # Read the entire audio file\n",
    "\n",
    "    try:\n",
    "        text = recognizer.recognize_google(audio)\n",
    "        return text\n",
    "    except sr.UnknownValueError:\n",
    "        return \"Google Speech Recognition could not understand audio\"\n",
    "    except sr.RequestError as e:\n",
    "        return f\"Could not request results from Google Speech Recognition service; {e}\"\n",
    "\n",
    "# File path\n",
    "wav_file = \"Recording.wav\"  # Replace with your actual WAV file name\n",
    "\n",
    "# Transcribe\n",
    "transcription = transcribe_audio(wav_file)\n",
    "print(\"Transcription: \" + transcription)\n",
    "\n",
    "# Optionally, save the transcription to a file\n",
    "with open(\"transcription.txt\", \"w\") as file:\n",
    "    file.write(transcription)\n"
   ]
  },
  {
   "cell_type": "code",
   "execution_count": 8,
   "metadata": {},
   "outputs": [
    {
     "name": "stdout",
     "output_type": "stream",
     "text": [
      "Transcription: Could not request results from Google Speech Recognition service; recognition request failed: Bad Request\n"
     ]
    }
   ],
   "source": [
    "from pydub import AudioSegment\n",
    "import speech_recognition as sr\n",
    "\n",
    "# Step 1: Cut the audio from 5 mins to 20 mins\n",
    "def cut_audio(input_file, output_file, start_min, end_min):\n",
    "    start_time = start_min * 60 * 1000  # convert to milliseconds\n",
    "    end_time = end_min * 60 * 1000  # convert to milliseconds\n",
    "\n",
    "    audio = AudioSegment.from_file(input_file)\n",
    "    cut_audio = audio[start_time:end_time]\n",
    "    cut_audio.export(output_file, format=\"wav\")\n",
    "\n",
    "# Step 2: Transcribe WAV to text\n",
    "def transcribe_audio(wav_file):\n",
    "    recognizer = sr.Recognizer()\n",
    "    with sr.AudioFile(wav_file) as source:\n",
    "        audio = recognizer.record(source)  # Read the entire audio file\n",
    "\n",
    "    try:\n",
    "        text = recognizer.recognize_google(audio)\n",
    "        return text\n",
    "    except sr.UnknownValueError:\n",
    "        return \"Google Speech Recognition could not understand audio\"\n",
    "    except sr.RequestError as e:\n",
    "        return f\"Could not request results from Google Speech Recognition service; {e}\"\n",
    "\n",
    "# File paths\n",
    "input_wav_file = \"Recording.wav\"  # Replace with your actual WAV file name\n",
    "output_wav_file = \"CutAudio.wav\"\n",
    "\n",
    "# Cut the audio from 5 mins to 20 mins\n",
    "cut_audio(input_wav_file, output_wav_file, start_min=5, end_min=20)\n",
    "\n",
    "# Transcribe the cut audio\n",
    "transcription = transcribe_audio(output_wav_file)\n",
    "print(\"Transcription: \" + transcription)\n",
    "\n",
    "# Optionally, save the transcription to a file\n",
    "with open(\"transcription.txt\", \"w\") as file:\n",
    "    file.write(transcription)\n"
   ]
  },
  {
   "cell_type": "code",
   "execution_count": 10,
   "metadata": {},
   "outputs": [
    {
     "name": "stdout",
     "output_type": "stream",
     "text": [
      "Transcription: trouble I want to find someone who's who is having the clarity for example When I When open the short I sent you open the shot I send you like the Deccan bone or what it was like like this hey Google cast sending out emails right I would say let's take the the third blue big Bullet point versus this one so it needs a concept this is a concept period about emails system setup and everything else it takes us how long does it take for you to think about when we want to send out email right what is necessary I need the system from this point of view today we have nothing full stop when we want to send our emails we need some urls we need to set them up we need to start verifying the email address so that they don't belong to spam so it needs a little bit concept from your point of view as a project manager because I say I said we don't send out emails I really want to send out emails I think we need your help I think we need some warm up I am not sure which system do we use please take care about that how much time does it take for you to set up a period to say this is important we need to make the strategy what belongs to this project probably so then you say the conceptual topic I need 5 hours 10 hours to reduce or maybe 2 hours I don't know we have to discuss it but then there would be a little bit of saying 2 days conceptional work and then afterwards it would be sending out like the first line of the yellow blue points when you go up there that you say we are allowed to send 1000 every week we are allowed to send I don't know 2000 emails so every week afterwards after we set it up we want to push out and so we need someone who is you know it's a project this week we create the campaign so we choose the player with shoes and then it's just every weekly there must be someone tired or needs a person to reduce for you so this is how I understand project when you show me your list if I don't understand it because it doesn't have time so and here it's very you know 10 times better when what what you show me I feel like because I understand this concept short time execution longer time at the end of the day in cricket ok it's done and the question is and now the questions where do we start with so is meaning the starting point maybe not maybe we have the website ready before we start meeting what is the starting point for us so obviously here in March in March everything starts simultaneously I don't know how do we start but I want to see your project management view about that you know for example website Optimisation to the brand we have ran clarity is it clear yes or no what is missing it's the first step today is the 6th June so you know I don't know I don't know how much time do we need for brain clarity afterwards it should be bring clarity should be listed here it's finished by how much time do we need for brain clarity from your professional point of you tell me I think couple of days researching and thinking about what do going to design for brand identity I don't think so I think it's a couple of hours and because we have a brand the question from the project managers what is existing so strategy meeting Grand clarity what is your feeling where do we stand show me what we have what is missing having a transparency ok when I see at the brand clarity I think we miss some parts we need find the designer project it is 70% is clear 30% is uncle what's missing is xy that therefore we need to find an agency When we start today with the brand charity I want to be finished within two weeks but then it's done so these are the test for brain clarity brain clarity from my point of view as your project manager we will be ready at the 21st june because this season 2 weeks Friday everything is the brand identity and afterwards we don't ever talk again about brand identity because we focus on that purely right now to the same time we set up the you know with a couple of hours but it doesn't bring me any clarity I get it what do you get it yes I do my work was missing the clarity because I did not understand the task as you are explaining now I have misconception earlier concept I thought that I have to organise existing work and then discuss how we are going to about that now you have to step up in a way that you say I understand I really find the buckets what I said the priority I want to understand for example it could be clarification meeting with the half an hour understand redesign the project and shape and task takes a 3 hours finding expert Agencies to truly match our company level 3 hours we need for that just set up virtual assistant as a tool or capacity and as for it so that we can quickly identify now for the third parties yes so you can focus on your business ideas and business growth overall of company not on the tiny task you have to move around and spend your hours set then you know so so I am already started a little bit frustrating because I thought you best you know I thought your best from all the I was talking to so far but now you come and say I miss perceptive the task and it gives the feeling why do people don't understand you start these are the substance they are coordinated they are logically in shape so when we proceed like this we will not fail and this is only the task I support and to be very honest there are millions task missing and if I need a project manager this is just what I created you know for example let's get for example compliance because if not you got very quickly and this is my expectation from a project manager you know you see what I can see because my focus is more towards the task as compared to you you have to deal with a lot of other things with a business related I get it time to be very honest but I don't want to have planned day of time I am just not the type of person who you know I mean worst case scenario for me but it's still a scenario is I talk you through every single task I talk with you about everything that takes us a week talking and then afterwards you adapted to click app and you do it in real time instead of ok I understand you know but this would be very slowly so I really think it's not a big task to really think about ok where do you start from vision mission like marketing is there is a 100% clear ok good excellent what is else missing like ok do we have where do we want to be is it absolutely clear when it comes to marketing what is missing you know do I identify the couple of smaller projects that are not clear like for example a messaging strategy you know every company has a messaging strategy what is your messaging study I don't know what is that we needed because strategy we can say not wasting time anyone so we need to have multiple sessions over the task so once again clarity I am be protective from this call would be that you again have a look at the task that you get a little bit from here about the task ok you didn't already like you know you did marketing you did operation what can we do simultaneously what do we start from you because if you don't can you show me the chart we don't have a processing the website optimising a website how long can that you know it really depends on clarity in terms of ok how much work is you know it needs like ok joke I see your website and just need to get induction so I think it's just 3 hours work so we need the developer doing that it's 3 hours and I need to contact the end of the day so I think it I think it's possible you know we can talk about 6 hours for 3 hours or 1 hour but at least I want to see what comes first how do you co-ordinate that for example before we start doing the next call what should be ready before that you know gadgets must be fulfilled before we need to talk about gain understanding about the task and I have to research all the aspects related to that task and lets you know that this is my plan we have to this task and we need such resources don't get me wrong it's so simple that I am I am a little bit confused that you struggle to be very honest so when we set up a Startup right what is necessary in order to set up so we need a product we need you know process for every startup in the world so so and we can easily say ok is there is not there you know when we say from now on let's let's walk through the line clarity what marketing needs don't get me wrong it's just make it out of my mind but wisdom yeah I mean you have a degree so it shouldn't be surprising that we have a product that we have a market that we have a strategy how to approach a market that we have a communication that we have branding that we have a website that we have a social media that we have you know I mean you know you don't need to talk to me to say it should be general understanding of the business so if we have this I want you to think about every business need to take this following steps and let me know please tell me favour if you feel read my understanding read my list and market how much percentage do you feel is good or bad give me an estimation from your point of view so we see open slots where is business owner Hai happy or unhappy it's a quick solution so that would be I say good alright next step when it comes to seeds and you already saw a lot of task then again ok what do we need and sales like ok we want to and I see you know ascending order image for me and that's the question is that marketing I don't know where it's your job to identify its not saved it's marketing because I don't know someone is replying and is the lead they have some interest process and only when they come back it says ok good understand thank ok how do we set up campaigns to them ok it's a project on its own it needs you will it needs a messaging contains it needs a system it needs addresses full stop yeah so it's Four Points how much time do we need for that from your point of view Google it's do something and you said 3 hours to find someone what's the criteria for buying address it doesn't matter if it's be my business it's your business or The Neighbours business show my expectation for our next call would be that we really have an agenda where you instead of playing around I don't know yeah I mean from my it's not I talk to you because I like you yeah and this is put that mentally a German would talk if I would think you stupid it's waste of time I wouldn't talk so much to you yeah just just to make sure so I believe from my point of you what I just saw is you just start working together yesterday I think when I see you took one day to create marketing decisions and this is operations this should be done in an hour\n"
     ]
    }
   ],
   "source": [
    "from pydub import AudioSegment\n",
    "import speech_recognition as sr\n",
    "import os\n",
    "\n",
    "# Function to cut the audio from 5 mins to 20 mins\n",
    "def cut_audio(input_file, output_file, start_min, end_min):\n",
    "    start_time = start_min * 60 * 1000  # convert to milliseconds\n",
    "    end_time = end_min * 60 * 1000  # convert to milliseconds\n",
    "\n",
    "    audio = AudioSegment.from_file(input_file)\n",
    "    cut_audio = audio[start_time:end_time]\n",
    "    cut_audio.export(output_file, format=\"wav\")\n",
    "\n",
    "# Function to chunk audio into smaller segments\n",
    "def chunk_audio(input_file, chunk_length_ms=60000):  # default chunk length is 1 minute\n",
    "    audio = AudioSegment.from_file(input_file)\n",
    "    chunks = [audio[i:i+chunk_length_ms] for i in range(0, len(audio), chunk_length_ms)]\n",
    "    return chunks\n",
    "\n",
    "# Function to transcribe audio chunks\n",
    "def transcribe_audio_chunks(chunks):\n",
    "    recognizer = sr.Recognizer()\n",
    "    full_transcription = \"\"\n",
    "\n",
    "    for i, chunk in enumerate(chunks):\n",
    "        chunk_file = f\"chunk{i}.wav\"\n",
    "        chunk.export(chunk_file, format=\"wav\")\n",
    "        \n",
    "        with sr.AudioFile(chunk_file) as source:\n",
    "            audio = recognizer.record(source)\n",
    "        \n",
    "        try:\n",
    "            text = recognizer.recognize_google(audio)\n",
    "            full_transcription += text + \" \"\n",
    "        except sr.UnknownValueError:\n",
    "            full_transcription += \"[Unintelligible] \"\n",
    "        except sr.RequestError as e:\n",
    "            full_transcription += f\"[RequestError: {e}] \"\n",
    "\n",
    "        os.remove(chunk_file)  # remove chunk file after processing\n",
    "\n",
    "    return full_transcription.strip()\n",
    "\n",
    "# File paths\n",
    "input_wav_file = \"Recording.wav\"  # Replace with your actual WAV file name\n",
    "output_wav_file = \"CutAudio.wav\"\n",
    "\n",
    "# Cut the audio from 5 mins to 20 mins\n",
    "cut_audio(input_wav_file, output_wav_file, start_min=15, end_min=35)\n",
    "\n",
    "# Chunk the audio\n",
    "chunks = chunk_audio(output_wav_file)\n",
    "\n",
    "# Transcribe the audio chunks\n",
    "transcription = transcribe_audio_chunks(chunks)\n",
    "print(\"Transcription: \" + transcription)\n",
    "\n",
    "# Optionally, save the transcription to a file\n",
    "with open(\"transcription.txt\", \"w\") as file:\n",
    "    file.write(transcription)\n"
   ]
  },
  {
   "cell_type": "code",
   "execution_count": null,
   "metadata": {},
   "outputs": [],
   "source": []
  }
 ],
 "metadata": {
  "kernelspec": {
   "display_name": "base",
   "language": "python",
   "name": "python3"
  },
  "language_info": {
   "codemirror_mode": {
    "name": "ipython",
    "version": 3
   },
   "file_extension": ".py",
   "mimetype": "text/x-python",
   "name": "python",
   "nbconvert_exporter": "python",
   "pygments_lexer": "ipython3",
   "version": "3.11.7"
  }
 },
 "nbformat": 4,
 "nbformat_minor": 2
}
